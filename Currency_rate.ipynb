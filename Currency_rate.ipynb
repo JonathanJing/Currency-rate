{
  "nbformat": 4,
  "nbformat_minor": 0,
  "metadata": {
    "colab": {
      "name": "Currency rate.ipynb",
      "version": "0.3.2",
      "provenance": [],
      "collapsed_sections": [],
      "include_colab_link": true
    },
    "kernelspec": {
      "name": "python3",
      "display_name": "Python 3"
    }
  },
  "cells": [
    {
      "cell_type": "markdown",
      "metadata": {
        "id": "view-in-github",
        "colab_type": "text"
      },
      "source": [
        "<a href=\"https://colab.research.google.com/github/JonathanJing/Currency-rate/blob/master/Currency_rate.ipynb\" target=\"_parent\"><img src=\"https://colab.research.google.com/assets/colab-badge.svg\" alt=\"Open In Colab\"/></a>"
      ]
    },
    {
      "cell_type": "code",
      "metadata": {
        "id": "I1loy1dtvF1D",
        "colab_type": "code",
        "outputId": "841e2066-a631-4d21-b63b-a7bbe1ab9fc7",
        "colab": {
          "base_uri": "https://localhost:8080/",
          "height": 136
        }
      },
      "source": [
        "import time\n",
        "import json\n",
        "import urllib.request as ur\n",
        "\n",
        "#Get USD-CNY currency\n",
        "url_USD_CNY = 'https://www.alphavantage.co/query?function=CURRENCY_EXCHANGE_RATE&from_currency=USD&to_currency=CNY&apikey=6D37A0038RJFIWBK'\n",
        "html_USD_CNY = ur.urlopen(url_USD_CNY).read().decode()\n",
        "info_USD_CNY = json.loads(html_USD_CNY)\n",
        "er_USD_CNY = float(info_USD_CNY['Realtime Currency Exchange Rate']['5. Exchange Rate'])\n",
        "\n",
        "#Get USD-CNH currency, CNH for \"Chinese Yuan Offshore\"\n",
        "time.sleep(0.1)\n",
        "url_USD_CNH = 'https://www.alphavantage.co/query?function=CURRENCY_EXCHANGE_RATE&from_currency=USD&to_currency=CNH&apikey=6D37A0038RJFIWBK'\n",
        "html_USD_CNH = ur.urlopen(url_USD_CNH).read().decode()\n",
        "info_USD_CNH = json.loads(html_USD_CNH)\n",
        "er_USD_CNH = float(info_USD_CNH['Realtime Currency Exchange Rate']['5. Exchange Rate'])\n",
        "\n",
        "#Get BTC-CNY currency\n",
        "time.sleep(0.1)\n",
        "url_BTC_CNY = 'https://www.alphavantage.co/query?function=CURRENCY_EXCHANGE_RATE&from_currency=BTC&to_currency=CNY&apikey=6D37A0038RJFIWBK'\n",
        "html_BTC_CNY = ur.urlopen(url_BTC_CNY).read().decode()\n",
        "info_BTC_CNY = json.loads(html_BTC_CNY)\n",
        "er_BTC_CNY = float(info_BTC_CNY['Realtime Currency Exchange Rate']['5. Exchange Rate'])\n",
        "\n",
        "#Get BTC-USD currency\n",
        "time.sleep(0.1)\n",
        "url_BTC_USD = 'https://www.alphavantage.co/query?function=CURRENCY_EXCHANGE_RATE&from_currency=BTC&to_currency=USD&apikey=6D37A0038RJFIWBK'\n",
        "html_BTC_USD = ur.urlopen(url_BTC_USD).read().decode()\n",
        "info_BTC_USD = json.loads(html_BTC_USD)\n",
        "er_BTC_USD = float(info_BTC_USD['Realtime Currency Exchange Rate']['5. Exchange Rate'])\n",
        "\n",
        "#Caculate currenct USD-CNY in BTC \n",
        "er_BTC_CNY_USD = er_BTC_CNY/er_BTC_USD\n",
        "\n",
        "print('Normal Currency USD-CNY:', round(er_USD_CNY,4))\n",
        "print('Normal Currency USD-CNH:', round(er_USD_CNH,4))\n",
        "print('BTC Currency USD-CNY:',round(er_BTC_CNY_USD,4))\n",
        "print('\\n')\n",
        "print('Exchange Rate BTC-CNY:', round(er_BTC_CNY,4))\n",
        "print('Exchange Rate BTC-USD:', round(er_BTC_USD,4))\n",
        "\n"
      ],
      "execution_count": 0,
      "outputs": [
        {
          "output_type": "stream",
          "text": [
            "Normal Currency USD-CNY: 7.1157\n",
            "Normal Currency USD-CNH: 7.1067\n",
            "BTC Currency USD-CNY: 7.1153\n",
            "\n",
            "\n",
            "Exchange Rate BTC-CNY: 73345.066\n",
            "Exchange Rate BTC-USD: 10308.14\n"
          ],
          "name": "stdout"
        }
      ]
    },
    {
      "cell_type": "code",
      "metadata": {
        "id": "kFzNY1zQ3J8G",
        "colab_type": "code",
        "outputId": "cd0c7d6a-cf34-40ae-8683-4b5e481dcacd",
        "colab": {
          "base_uri": "https://localhost:8080/",
          "height": 68
        }
      },
      "source": [
        "import json\n",
        "import urllib.request as ur\n",
        "\n",
        "url = 'https://www.alphavantage.co/query?function=DIGITAL_CURRENCY_DAILY&symbol=BTC&market=CNY&apikey=6D37A0038RJFIWBK'\n",
        "html = ur.urlopen(url).read().decode()\n",
        "info = json.loads(html)\n",
        "x = input('Input date in mm-dd format:')\n",
        "er_cny_h = float(info['Time Series (Digital Currency Daily)']['2019-'+ x]['2a. high (CNY)'])\n",
        "er_usd_h = float(info['Time Series (Digital Currency Daily)']['2019-'+ x]['2b. high (USD)'])\n",
        "er_cny_l = float(info['Time Series (Digital Currency Daily)']['2019-'+ x]['3a. low (CNY)'])\n",
        "er_usd_l = float(info['Time Series (Digital Currency Daily)']['2019-'+ x]['3b. low (USD)'])\n",
        "c_usd_cny_h = er_cny_h/ er_usd_h\n",
        "c_usd_cny_l = er_cny_l/ er_usd_l\n",
        "print('BTC Currency High point:', round(c_usd_cny_h,4))\n",
        "print('BTC Currency low point:', round(c_usd_cny_h,4))"
      ],
      "execution_count": 0,
      "outputs": [
        {
          "output_type": "stream",
          "text": [
            "Input date in mm-dd format:09-06\n",
            "BTC Currency High point: 7.148900000000001\n",
            "BTC Currency low point: 7.148900000000001\n"
          ],
          "name": "stdout"
        }
      ]
    }
  ]
}